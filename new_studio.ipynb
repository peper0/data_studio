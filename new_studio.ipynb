{
 "cells": [
  {
   "cell_type": "code",
   "execution_count": 1,
   "metadata": {},
   "outputs": [],
   "source": [
    "%load_ext autoreload\n",
    "%autoreload 2"
   ]
  },
  {
   "cell_type": "code",
   "execution_count": 2,
   "metadata": {},
   "outputs": [
    {
     "name": "stderr",
     "output_type": "stream",
     "text": [
      "INFO:quamash:Using Qt Implementation: PyQt5\n"
     ]
    }
   ],
   "source": [
    "\n",
    "import cv2\n",
    "import sdupy.jupyter\n",
    "import sdupy.widgets\n",
    "import sdupy.studioapp\n",
    "import numpy as np\n",
    "\n",
    "%gui studio\n"
   ]
  },
  {
   "cell_type": "code",
   "execution_count": 3,
   "metadata": {},
   "outputs": [
    {
     "name": "stderr",
     "output_type": "stream",
     "text": [
      "INFO:root:restoring state of 'image'\n"
     ]
    },
    {
     "name": "stderr",
     "output_type": "stream",
     "text": [
      "INFO:root:restoring state of 'image2'\n"
     ]
    },
    {
     "name": "stderr",
     "output_type": "stream",
     "text": [
      "INFO:root:restoring state of 'selector'\n"
     ]
    },
    {
     "name": "stderr",
     "output_type": "stream",
     "text": [
      "INFO:root:restoring state of 'variables table'\n"
     ]
    },
    {
     "name": "stderr",
     "output_type": "stream",
     "text": [
      "INFO:root:restoring state of 'vars'\n"
     ]
    },
    {
     "name": "stderr",
     "output_type": "stream",
     "text": [
      "INFO:root:restoring state of 'vars2'\n"
     ]
    },
    {
     "name": "stderr",
     "output_type": "stream",
     "text": [
      "INFO:root:restoring state of 'ran'\n"
     ]
    },
    {
     "name": "stderr",
     "output_type": "stream",
     "text": [
      "INFO:root:restoring state of 'max'\n"
     ]
    }
   ],
   "source": [
    "import sdupy.helpers as helpers\n",
    "from sdupy.reactive import Var\n",
    "\n",
    "sdupy.studioapp.start(\"nowy\")\n",
    "imgvar = Var()\n"
   ]
  },
  {
   "cell_type": "code",
   "execution_count": 6,
   "metadata": {
    "collapsed": false
   },
   "outputs": [
    {
     "name": "stdout",
     "output_type": "stream",
     "text": [
      "<sdupy.reactive.var.RVal object at 0x7f21684685c0>\n"
     ]
    }
   ],
   "source": [
    "from sdupy.helpers import input_value_from_list, display_variable, input_value_from_range\n",
    "from sdupy.reactive import reactive\n",
    "\n",
    "v = input_value_from_list('selector', ['a', 5, 5.6])\n",
    "print(v)\n",
    "display_variable('vars', 'vrr', v, editable=True)\n",
    "step = Var(1.0)\n",
    "display_variable('vars2', 'step', step)\n",
    "ma = input_value_from_range('max', 1, 10, 1)\n",
    "v2 = reactive(lambda maxim, step: input_value_from_range('ran', 1, maxim, step))(ma, step)\n",
    "display_variable('vars2', 'max', ma)\n",
    "display_variable('vars2', 'ran', v2)\n"
   ]
  },
  {
   "cell_type": "code",
   "execution_count": 7,
   "metadata": {},
   "outputs": [
    {
     "data": {
      "text/plain": [
       "3.4"
      ]
     },
     "execution_count": 7,
     "metadata": {},
     "output_type": "execute_result"
    }
   ],
   "source": [
    "v.get().__class__('3.4')"
   ]
  },
  {
   "cell_type": "code",
   "execution_count": 6,
   "metadata": {},
   "outputs": [],
   "source": [
    "yy = helpers.imshow('image2', imgvar, aspect='equal')"
   ]
  },
  {
   "cell_type": "code",
   "execution_count": 7,
   "metadata": {},
   "outputs": [],
   "source": [
    "imgvar.set(cv2.imread(\"sdupy/flower.jpg\"))"
   ]
  },
  {
   "cell_type": "code",
   "execution_count": 8,
   "metadata": {},
   "outputs": [],
   "source": [
    "\n",
    "imgvar.set(cv2.imread(\"sdupy/lena.png\"))\n"
   ]
  },
  {
   "cell_type": "code",
   "execution_count": 10,
   "metadata": {},
   "outputs": [
    {
     "data": {
      "text/plain": [
       "120"
      ]
     },
     "execution_count": 10,
     "metadata": {},
     "output_type": "execute_result"
    }
   ],
   "source": [
    "#del yyy\n",
    "import gc\n",
    "gc.collect()"
   ]
  },
  {
   "cell_type": "code",
   "execution_count": 7,
   "metadata": {},
   "outputs": [],
   "source": [
    "from PyQt5.QtWidgets import QScrollBar\n",
    "\n",
    "from sdupy import main_window\n",
    "from sdupy.reactive.var import myprint\n",
    "from sdupy.studioapp import default_main_window\n",
    "\n",
    "sb = QScrollBar(default_main_window)\n",
    "sb.show()\n",
    "sb.value()\n",
    "\n",
    "meta=sb.staticMetaObject\n",
    "\n",
    "def connect_to_notifier(obj, prop_name, callback):    \n",
    "    notify_signal_name = bytes(meta.property(meta.indexOfProperty(prop_name)).notifySignal().name()).decode('utf8')\n",
    "    notify_signal = getattr(obj, notify_signal_name)\n",
    "    notify_signal.connect(callback)\n",
    "    \n",
    "def print_hej():\n",
    "    myprint('hej')\n",
    "    \n",
    "connect_to_notifier(sb, 'value', print_hej)\n",
    "\n",
    "\n"
   ]
  },
  {
   "cell_type": "code",
   "execution_count": 23,
   "metadata": {},
   "outputs": [],
   "source": [
    "from PyQt5 import QtCore\n",
    "\n",
    "from sdupy.reactive import reactive\n",
    "from sdupy.widgets.slider import Slider\n",
    "\n",
    "sli=default_main_window.obtain_widget('slider', Slider)\n",
    "sli.slider.setOrientation(QtCore.Qt.Horizontal)\n",
    "yy=reactive()(myprint)(sli.var)"
   ]
  },
  {
   "cell_type": "raw",
   "metadata": {},
   "source": []
  },
  {
   "cell_type": "raw",
   "metadata": {},
   "source": []
  }
 ],
 "metadata": {
  "kernelspec": {
   "display_name": "Python 3",
   "language": "python",
   "name": "python3"
  },
  "language_info": {
   "codemirror_mode": {
    "name": "ipython",
    "version": 3
   },
   "file_extension": ".py",
   "mimetype": "text/x-python",
   "name": "python",
   "nbconvert_exporter": "python",
   "pygments_lexer": "ipython3",
   "version": "3.5.2"
  }
 },
 "nbformat": 4,
 "nbformat_minor": 1
}
