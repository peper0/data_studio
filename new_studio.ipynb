{
 "cells": [
  {
   "cell_type": "code",
   "execution_count": 1,
   "metadata": {},
   "outputs": [],
   "source": [
    "%load_ext autoreload\n",
    "%autoreload 2"
   ]
  },
  {
   "cell_type": "code",
   "execution_count": 2,
   "metadata": {},
   "outputs": [
    {
     "name": "stderr",
     "output_type": "stream",
     "text": [
      "INFO:quamash:Using Qt Implementation: PyQt5\n"
     ]
    }
   ],
   "source": [
    "\n",
    "import cv2\n",
    "import sdupy.jupyter\n",
    "import sdupy.widgets\n",
    "import sdupy.studioapp\n",
    "import numpy as np\n",
    "\n",
    "%gui studio\n"
   ]
  },
  {
   "cell_type": "code",
   "execution_count": 3,
   "metadata": {},
   "outputs": [
    {
     "name": "stderr",
     "output_type": "stream",
     "text": [
      "INFO:root:restoring state of 'image'\n"
     ]
    },
    {
     "name": "stderr",
     "output_type": "stream",
     "text": [
      "INFO:root:restoring state of 'image2'\n"
     ]
    }
   ],
   "source": [
    "import sdupy.helpers as helpers\n",
    "import sdupy.reactive.var as var\n",
    "\n",
    "sdupy.studioapp.start(\"nowy\")\n",
    "imgvar = var.Var()\n"
   ]
  },
  {
   "cell_type": "code",
   "execution_count": 24,
   "metadata": {},
   "outputs": [],
   "source": [
    "yy = helpers.imshow('image2', imgvar, aspect='equal')"
   ]
  },
  {
   "cell_type": "code",
   "execution_count": 25,
   "metadata": {},
   "outputs": [],
   "source": [
    "imgvar.set(cv2.imread(\"sdupy/flower.jpg\"))"
   ]
  },
  {
   "cell_type": "code",
   "execution_count": 6,
   "metadata": {},
   "outputs": [],
   "source": [
    "\n",
    "imgvar.set(cv2.imread(\"sdupy/lena.png\"))\n"
   ]
  },
  {
   "cell_type": "code",
   "execution_count": 10,
   "metadata": {},
   "outputs": [
    {
     "data": {
      "text/plain": [
       "120"
      ]
     },
     "execution_count": 10,
     "metadata": {},
     "output_type": "execute_result"
    }
   ],
   "source": [
    "#del yyy\n",
    "import gc\n",
    "gc.collect()"
   ]
  },
  {
   "cell_type": "code",
   "execution_count": 7,
   "metadata": {},
   "outputs": [],
   "source": [
    "from PyQt5.QtWidgets import QScrollBar\n",
    "\n",
    "from sdupy import main_window\n",
    "from sdupy.reactive.var import myprint\n",
    "from sdupy.studioapp import default_main_window\n",
    "\n",
    "sb = QScrollBar(default_main_window)\n",
    "sb.show()\n",
    "sb.value()\n",
    "\n",
    "meta=sb.staticMetaObject\n",
    "\n",
    "def connect_to_notifier(obj, prop_name, callback):    \n",
    "    notify_signal_name = bytes(meta.property(meta.indexOfProperty(prop_name)).notifySignal().name()).decode('utf8')\n",
    "    notify_signal = getattr(obj, notify_signal_name)\n",
    "    notify_signal.connect(callback)\n",
    "    \n",
    "def print_hej():\n",
    "    myprint('hej')\n",
    "    \n",
    "connect_to_notifier(sb, 'value', print_hej)\n",
    "\n",
    "\n"
   ]
  },
  {
   "cell_type": "code",
   "execution_count": 23,
   "metadata": {},
   "outputs": [],
   "source": [
    "from PyQt5 import QtCore\n",
    "\n",
    "from sdupy.reactive import reactive\n",
    "from sdupy.widgets.slider import Slider\n",
    "\n",
    "sli=default_main_window.obtain_widget('slider', Slider)\n",
    "sli.slider.setOrientation(QtCore.Qt.Horizontal)\n",
    "yy=reactive()(myprint)(sli.var)"
   ]
  },
  {
   "cell_type": "raw",
   "metadata": {},
   "source": []
  },
  {
   "cell_type": "raw",
   "metadata": {},
   "source": []
  }
 ],
 "metadata": {
  "kernelspec": {
   "display_name": "Python 3",
   "language": "python",
   "name": "python3"
  },
  "language_info": {
   "codemirror_mode": {
    "name": "ipython",
    "version": 3
   },
   "file_extension": ".py",
   "mimetype": "text/x-python",
   "name": "python",
   "nbconvert_exporter": "python",
   "pygments_lexer": "ipython3",
   "version": "3.5.2"
  }
 },
 "nbformat": 4,
 "nbformat_minor": 1
}
