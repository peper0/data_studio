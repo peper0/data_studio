{
 "cells": [
  {
   "cell_type": "code",
   "execution_count": 1,
   "metadata": {},
   "outputs": [],
   "source": [
    "%load_ext autoreload\n",
    "%autoreload 2"
   ]
  },
  {
   "cell_type": "code",
   "execution_count": 4,
   "metadata": {},
   "outputs": [
    {
     "ename": "ModuleNotFoundError",
     "evalue": "No module named '__main__.studioapp'; '__main__' is not a package",
     "traceback": [
      "\u001b[0;31m---------------------------------------------------------------------------\u001b[0m",
      "\u001b[0;31mModuleNotFoundError\u001b[0m                       Traceback (most recent call last)",
      "\u001b[0;32m<ipython-input-4-eb6940852632>\u001b[0m in \u001b[0;36m<module>\u001b[0;34m()\u001b[0m\n\u001b[1;32m      1\u001b[0m \u001b[0;32mfrom\u001b[0m \u001b[0;34m.\u001b[0m \u001b[0;32mimport\u001b[0m \u001b[0mjupyter\u001b[0m\u001b[0;34m\u001b[0m\u001b[0m\n\u001b[0;32m----> 2\u001b[0;31m \u001b[0;32mfrom\u001b[0m \u001b[0;34m.\u001b[0m\u001b[0mstudioapp\u001b[0m \u001b[0;32mimport\u001b[0m \u001b[0mstart\u001b[0m\u001b[0;34m\u001b[0m\u001b[0m\n\u001b[0m\u001b[1;32m      3\u001b[0m \u001b[0;34m\u001b[0m\u001b[0m\n\u001b[1;32m      4\u001b[0m \u001b[0mget_ipython\u001b[0m\u001b[0;34m(\u001b[0m\u001b[0;34m)\u001b[0m\u001b[0;34m.\u001b[0m\u001b[0mrun_line_magic\u001b[0m\u001b[0;34m(\u001b[0m\u001b[0;34m'gui'\u001b[0m\u001b[0;34m,\u001b[0m \u001b[0;34m'studio'\u001b[0m\u001b[0;34m)\u001b[0m\u001b[0;34m\u001b[0m\u001b[0m\n",
      "\u001b[0;31mModuleNotFoundError\u001b[0m: No module named '__main__.studioapp'; '__main__' is not a package"
     ],
     "output_type": "error"
    }
   ],
   "source": [
    "from . import jupyter\n",
    "from .studioapp import start\n",
    "\n",
    "%gui studio"
   ]
  },
  {
   "cell_type": "code",
   "execution_count": 4,
   "metadata": {},
   "outputs": [
    {
     "ename": "NameError",
     "evalue": "name 'start' is not defined",
     "traceback": [
      "\u001b[0;31m---------------------------------------------------------------------------\u001b[0m",
      "\u001b[0;31mNameError\u001b[0m                                 Traceback (most recent call last)",
      "\u001b[0;32m<ipython-input-4-94c25c139f33>\u001b[0m in \u001b[0;36m<module>\u001b[0;34m()\u001b[0m\n\u001b[0;32m----> 1\u001b[0;31m \u001b[0mstart\u001b[0m\u001b[0;34m(\u001b[0m\u001b[0;34m\"nowy\"\u001b[0m\u001b[0;34m)\u001b[0m\u001b[0;34m\u001b[0m\u001b[0m\n\u001b[0m",
      "\u001b[0;31mNameError\u001b[0m: name 'start' is not defined"
     ],
     "output_type": "error"
    }
   ],
   "source": [
    "start(\"nowy\")"
   ]
  },
  {
   "cell_type": "code",
   "execution_count": 42,
   "metadata": {},
   "outputs": [
    {
     "data": {
      "text/plain": [
       "0"
      ]
     },
     "execution_count": 42,
     "metadata": {},
     "output_type": "execute_result"
    }
   ],
   "source": [
    "shower=None\n",
    "import gc\n",
    "gc.collect()"
   ]
  },
  {
   "cell_type": "code",
   "execution_count": 37,
   "metadata": {},
   "outputs": [
    {
     "name": "stdout",
     "output_type": "stream",
     "text": [
      "deleting <reactive.var.Var object at 0x7f3fd13fe0f0> False None\ndeleting <reactive.var.Var object at 0x7f3fd13fe7f0> False <function ensure_coro_func.<locals>.async_f at 0x7f3fd14f82f0>\n"
     ]
    },
    {
     "data": {
      "text/plain": [
       "338"
      ]
     },
     "execution_count": 37,
     "metadata": {},
     "output_type": "execute_result"
    }
   ],
   "source": [
    "import cv2\n",
    "import numpy as np\n",
    "from reactive.var import Var\n",
    "import helpers\n",
    "\n",
    "import os\n",
    "import gc\n",
    "import asyncio\n",
    "\n",
    "imgvar = Var(np.zeros((1,1)))\n",
    "shower = helpers.show_image('hejha', imgvar)\n",
    "#asyncio.ensure_future(shower.dispose())\n",
    "gc.collect()\n",
    "#os.write(1, b\"aaa\\n\")\n",
    "#imgvar.set(cv2.imread(\"lena.png\"))\n"
   ]
  },
  {
   "cell_type": "code",
   "execution_count": 36,
   "metadata": {},
   "outputs": [
    {
     "data": {
      "text/plain": [
       "False"
      ]
     },
     "execution_count": 36,
     "metadata": {},
     "output_type": "execute_result"
    }
   ],
   "source": [
    "shower.disposed"
   ]
  },
  {
   "cell_type": "code",
   "execution_count": 38,
   "metadata": {},
   "outputs": [
    {
     "data": {
      "text/plain": [
       "338"
      ]
     },
     "execution_count": 38,
     "metadata": {},
     "output_type": "execute_result"
    }
   ],
   "source": [
    "imgvar.set(cv2.imread(\"flower.jpg\"))\n",
    "gc.collect()"
   ]
  },
  {
   "cell_type": "code",
   "execution_count": 36,
   "metadata": {},
   "outputs": [],
   "source": [
    "\n",
    "imgvar.set(cv2.imread(\"lena.png\"))\n"
   ]
  },
  {
   "cell_type": "code",
   "execution_count": 28,
   "metadata": {},
   "outputs": [],
   "source": [
    "import studioapp\n",
    "\n",
    "window = studioapp.default_main_window\n",
    "ii = window.widgets['wykresik'].widget.axes.imshow(imgvar.data)\n",
    "window.widgets['wykresik'].widget.draw()"
   ]
  },
  {
   "cell_type": "code",
   "execution_count": 12,
   "metadata": {},
   "outputs": [
    {
     "data": {
      "text/plain": [
       "<Task pending coro=<Var.dispose() running at /home/peper/src/databrowser/reactive/var.py:94>>"
      ]
     },
     "execution_count": 12,
     "metadata": {},
     "output_type": "execute_result"
    }
   ],
   "source": [
    "import asyncio\n",
    "asyncio.ensure_future(shower.dispose())"
   ]
  },
  {
   "cell_type": "code",
   "execution_count": 19,
   "metadata": {},
   "outputs": [],
   "source": [
    "del shower"
   ]
  },
  {
   "cell_type": "code",
   "execution_count": 20,
   "metadata": {},
   "outputs": [
    {
     "data": {
      "text/plain": [
       "281"
      ]
     },
     "execution_count": 20,
     "metadata": {},
     "output_type": "execute_result"
    }
   ],
   "source": [
    "\n",
    "import gc\n",
    "\n",
    "gc.collect()"
   ]
  },
  {
   "cell_type": "code",
   "execution_count": 16,
   "metadata": {},
   "outputs": [
    {
     "data": {
      "text/plain": [
       "['__annotations__',\n '__call__',\n '__class__',\n '__closure__',\n '__code__',\n '__defaults__',\n '__delattr__',\n '__dict__',\n '__dir__',\n '__doc__',\n '__eq__',\n '__format__',\n '__ge__',\n '__get__',\n '__getattribute__',\n '__globals__',\n '__gt__',\n '__hash__',\n '__init__',\n '__init_subclass__',\n '__kwdefaults__',\n '__le__',\n '__lt__',\n '__module__',\n '__name__',\n '__ne__',\n '__new__',\n '__qualname__',\n '__reduce__',\n '__reduce_ex__',\n '__repr__',\n '__setattr__',\n '__sizeof__',\n '__str__',\n '__subclasshook__']"
      ]
     },
     "execution_count": 16,
     "metadata": {},
     "output_type": "execute_result"
    }
   ],
   "source": [
    "async def plot(data: dict, plot_brick=None):\n",
    "    plot_line, = plot_brick.axes.plot(data)\n",
    "    plot_brick.draw()\n",
    "        \n",
    "    async def cleanup(self):\n",
    "        plot_line.remove()\n",
    "\n",
    "dir(plot)"
   ]
  },
  {
   "cell_type": "code",
   "execution_count": 26,
   "metadata": {},
   "outputs": [
    {
     "data": {
      "text/plain": [
       "{}"
      ]
     },
     "execution_count": 26,
     "metadata": {},
     "output_type": "execute_result"
    }
   ],
   "source": [
    "plot.__dict__"
   ]
  },
  {
   "cell_type": "code",
   "execution_count": 6,
   "metadata": {},
   "outputs": [
    {
     "name": "stdout",
     "output_type": "stream",
     "text": [
      "9\nis: ab\n"
     ]
    }
   ],
   "source": [
    "import reactive\n",
    "import asyncio\n",
    "\n",
    "\n",
    "def db(a):\n",
    "    return a*2\n",
    "\n",
    "\n",
    "db2 = reactive.unroll_gen(0)(db)\n",
    "\n",
    "async def myrange(n):\n",
    "    for i in range(n):\n",
    "        yield i\n",
    "\n",
    "@reactive.reactive2()\n",
    "async def add(a, b):\n",
    "    return a+b\n",
    "\n",
    "add2 = reactive.unroll_gen('a')(add)\n",
    "gen = None\n",
    "async def main():\n",
    "    global gen\n",
    "    r = await add(5, 4)\n",
    "    print(r.data)\n",
    "    \n",
    "    gen = add2(a=myrange(4), b=5)\n",
    "    print(\"is: %s\" % (await gen.__aiter__().__anext__()).data)\n",
    "    #async for i in gen:\n",
    "    #    print(i)\n",
    "        \n",
    "asyncio.get_event_loop().run_until_complete(main())"
   ]
  },
  {
   "cell_type": "code",
   "execution_count": 34,
   "metadata": {},
   "outputs": [
    {
     "ename": "StopIteration",
     "evalue": "<coroutine object wrapped_f at 0x7fbc767f2f10>",
     "traceback": [
      "\u001b[0;31m---------------------------------------------------------------------------\u001b[0m",
      "\u001b[0;31mStopIteration\u001b[0m                             Traceback (most recent call last)",
      "\u001b[0;32m<ipython-input-34-9fbcd964976b>\u001b[0m in \u001b[0;36m<module>\u001b[0;34m()\u001b[0m\n\u001b[0;32m----> 1\u001b[0;31m \u001b[0mgen\u001b[0m\u001b[0;34m.\u001b[0m\u001b[0m__aiter__\u001b[0m\u001b[0;34m(\u001b[0m\u001b[0;34m)\u001b[0m\u001b[0;34m.\u001b[0m\u001b[0m__anext__\u001b[0m\u001b[0;34m(\u001b[0m\u001b[0;34m)\u001b[0m\u001b[0;34m.\u001b[0m\u001b[0m__await__\u001b[0m\u001b[0;34m(\u001b[0m\u001b[0;34m)\u001b[0m\u001b[0;34m.\u001b[0m\u001b[0m__next__\u001b[0m\u001b[0;34m(\u001b[0m\u001b[0;34m)\u001b[0m\u001b[0;34m\u001b[0m\u001b[0m\n\u001b[0m",
      "\u001b[0;31mStopIteration\u001b[0m: <coroutine object wrapped_f at 0x7fbc767f2f10>"
     ],
     "output_type": "error"
    }
   ],
   "source": [
    "gen.__aiter__().__anext__().__await__().__next__()"
   ]
  },
  {
   "cell_type": "code",
   "execution_count": 1,
   "metadata": {
    "collapsed": false
   },
   "outputs": [
    {
     "name": "stdout",
     "output_type": "stream",
     "text": [
      "44\n"
     ]
    }
   ],
   "source": [
    "import asyncio\n",
    "\n",
    "def deco(f):\n",
    "    async def wrapped_f(a):\n",
    "        print(\"przed\")\n",
    "        await f(a)\n",
    "        print(\"po\")\n",
    "    return wrapped_f\n",
    "\n",
    "\n",
    "async def foo(a):\n",
    "    print(a)\n",
    "    \n",
    "f = foo(44)\n",
    "loop = asyncio.get_event_loop()\n",
    "loop.run_until_complete(f)"
   ]
  },
  {
   "cell_type": "code",
   "execution_count": 47,
   "metadata": {},
   "outputs": [
    {
     "ename": "TypeError",
     "evalue": "'async_generator' object is not an iterator",
     "traceback": [
      "\u001b[0;31m---------------------------------------------------------------------------\u001b[0m",
      "\u001b[0;31mTypeError\u001b[0m                                 Traceback (most recent call last)",
      "\u001b[0;32m<ipython-input-47-d0c8a4e9bc7a>\u001b[0m in \u001b[0;36m<module>\u001b[0;34m()\u001b[0m\n\u001b[0;32m----> 1\u001b[0;31m \u001b[0mloop\u001b[0m\u001b[0;34m.\u001b[0m\u001b[0mrun_until_complete\u001b[0m\u001b[0;34m(\u001b[0m\u001b[0mnext\u001b[0m\u001b[0;34m(\u001b[0m\u001b[0mgen\u001b[0m\u001b[0;34m(\u001b[0m\u001b[0;34m)\u001b[0m\u001b[0;34m.\u001b[0m\u001b[0m__aiter__\u001b[0m\u001b[0;34m(\u001b[0m\u001b[0;34m)\u001b[0m\u001b[0;34m)\u001b[0m\u001b[0;34m)\u001b[0m\u001b[0;34m\u001b[0m\u001b[0m\n\u001b[0m\u001b[1;32m      2\u001b[0m \u001b[0;34m\u001b[0m\u001b[0m\n",
      "\u001b[0;31mTypeError\u001b[0m: 'async_generator' object is not an iterator"
     ],
     "output_type": "error"
    }
   ],
   "source": [
    "loop.run_until_complete(next(gen().__aiter__()))\n",
    "\n"
   ]
  },
  {
   "cell_type": "code",
   "execution_count": 56,
   "metadata": {
    "collapsed": true
   },
   "outputs": [
    {
     "name": "stdout",
     "output_type": "stream",
     "text": [
      "hej\nfetching\nreally fetching\nfetched\nreturning\nfd\n(0, 0)\nfetching\nreally fetching\nfetched\nreturning\nfd\n(1, 0)\nfetching\nreally fetching\nfetched\nreturning\nfd\n(2, 0)\nfetching\nreally fetching\nfetched\nreturning\nfd\n(0, 1)\nfetching\nreally fetching\nfetched\nreturning\nfd\n(1, 1)\nfetching\nreally fetching\nfetched\nreturning\nfd\n(2, 1)\nfetching\nreally fetching\nfetched\nreturning\nfd\n(0, 2)\nfetching\nreally fetching\nfetched\nreturning\nfd\n(1, 2)\nfetching\nreally fetching\nfetched\nreturning\nfd\n(2, 2)\nfetching\nreally fetching\nfetched\nreturning\nfd\n(0, 3)\nfetching\nreally fetching\nfetched\nreturning\nfd\n(1, 3)\nfetching\nreally fetching\nfetched\nreturning\nfd\n(2, 3)\nfetching\nreally fetching\nfetched\nreturning\nfd\n(0, 4)\nfetching\nreally fetching\nfetched\nreturning\nfd\n(1, 4)\nfetching\nreally fetching\nfetched\nreturning\nfd\n(2, 4)\nfetching\nreally fetching\nfetched\nreturning\nfd\n(0, 5)\nfetching\nreally fetching\nfetched\nreturning\nfd\n(1, 5)\nfetching\nreally fetching\nfetched\nreturning\nfd\n(2, 5)\nfetching\nreally fetching\nfetched\nreturning\nfd\n(0, 6)\nfetching\nreally fetching\nfetched\nreturning\nfd\n(1, 6)\nfetching\nreally fetching\nfetched\nreturning\nfd\n(2, 6)\nfetching\nreally fetching\nfetched\nreturning\nfd\n(0, 7)\nfetching\nreally fetching\nfetched\nreturning\nfd\n(1, 7)\nfetching\nreally fetching\nfetched\nreturning\nfd\n(2, 7)\nfetching\nreally fetching\nfetched\nreturning\nfd\n(0, 8)\nfetching\nreally fetching\nfetched\nreturning\nfd\n(1, 8)\nfetching\nreally fetching\nfetched\nreturning\nfd\n(2, 8)\nfetching\nreally fetching\nfetched\nreturning\nfd\n(0, 9)\nfetching\nreally fetching\nfetched\nreturning\nfd\n(1, 9)\nfetching\nreally fetching\nfetched\nreturning\nfd\n(2, 9)\nfetching\nreally fetching\n"
     ]
    }
   ],
   "source": [
    "dfrom collections import deque\n",
    "\n",
    "async def gen():\n",
    "    for i in range(10):\n",
    "        for j in range(3):\n",
    "            yield j,i  \n",
    "            \n",
    "\n",
    "class Tee:\n",
    "    def __init__(self, gen):\n",
    "        self.gen = gen.__aiter__()\n",
    "        self.outputs = 0\n",
    "        self.queue = deque()\n",
    "        self.queue_index_offset = 0\n",
    "        self.finished = False\n",
    "        self.fetch_idle = asyncio.Event()\n",
    "        self.fetch_idle.set()\n",
    "        \n",
    "    def ref(self):\n",
    "        self.outputs += 1\n",
    "        \n",
    "    def unref(self, next_index):\n",
    "        self.outputs -= 1\n",
    "        assert self.outputs >= 0\n",
    "        for i in range(next_index-self.queue_index_offset, len(self.queue)):\n",
    "            self.queue[i][1]-=1\n",
    "\n",
    "    def request_out(self):\n",
    "        return TeeOut(self)\n",
    "    \n",
    "    async def pull_item(self, index):\n",
    "        assert index >= self.queue_index_offset, \"requested too old item; it's a bug\"\n",
    "        assert index <= self.next_index(), \"non-sequential getter?\"\n",
    "        if index == self.next_index():\n",
    "            if not await self._fetch_next():\n",
    "                raise StopAsyncIteration\n",
    "    \n",
    "        assert index < self.next_index(), \"fetch failed?\"\n",
    "            \n",
    "        index_in_queue = index - self.queue_index_offset\n",
    "        self.queue[index_in_queue][1] -= 1\n",
    "        print(\"returning\")\n",
    "        return self.queue[index_in_queue][0]\n",
    "\n",
    "    async def _fetch_next(self):\n",
    "        if not self.finished:\n",
    "            print(\"fetching\")\n",
    "            if self.fetch_idle.is_set():\n",
    "                print(\"really fetching\")\n",
    "                self.fetch_idle.clear()\n",
    "                try:\n",
    "                    self.queue.append([await self.gen.__anext__(), self.outputs])\n",
    "                    print(\"fetched\")\n",
    "                except StopAsyncIteration:\n",
    "                    self.finished = True\n",
    "                self.fetch_idle.set()\n",
    "            else:\n",
    "                #someone other is already fething\n",
    "                await self.fetch_idle.wait()\n",
    "        return not self.finished\n",
    "                \n",
    "    \n",
    "    def next_index(self):\n",
    "        return self.queue_index_offset + len(self.queue)\n",
    "        \n",
    "        \n",
    "class TeeOut:\n",
    "    def __init__(self, tee: Tee):\n",
    "        self.tee = tee\n",
    "        tee.ref()\n",
    "        self.next_index = tee.next_index()\n",
    "        \n",
    "    def __del__(self):\n",
    "        self.tee.unref(self.next_index)\n",
    "    \n",
    "    def __aiter__(self):\n",
    "        return self\n",
    "    \n",
    "    async def __anext__(self):\n",
    "        item = await self.tee.pull_item(self.next_index)\n",
    "        self.next_index += 1\n",
    "        return item\n",
    "\n",
    "\n",
    "    \n",
    "async def main():\n",
    "    tee = Tee(gen())\n",
    "    out = tee.request_out()\n",
    "    print(\"hej\")\n",
    "    async for i in out:\n",
    "        print(\"fd\")\n",
    "        print(i)\n",
    "    \n",
    "loop = asyncio.get_event_loop()\n",
    "loop.run_until_complete(main())"
   ]
  },
  {
   "cell_type": "code",
   "execution_count": null,
   "metadata": {
    "collapsed": false
   },
   "outputs": [],
   "source": [
    "from ipyleaflet import Map\n",
    "\n",
    "Map(center=[34.6252978589571, -77.34580993652344], zoom=10)"
   ]
  },
  {
   "cell_type": "code",
   "execution_count": 4,
   "metadata": {
    "collapsed": false
   },
   "outputs": [],
   "source": [
    "from ipywidgets import widgets\n",
    "from IPython.display import display\n",
    "button = widgets.Button(description=\"regrgreff\")\n",
    "display(button)\n",
    "button.on_click(lambda a: print(\"heja\"))\n",
    "sli = widgets.IntSlider()\n",
    "display(sli)"
   ]
  },
  {
   "cell_type": "code",
   "execution_count": 13,
   "metadata": {
    "collapsed": false
   },
   "outputs": [],
   "source": [
    "button2 = widgets.Button(description=\"regrgre\")\n",
    "display(button2)\n",
    "button2.on_click(lambda a: print(\"heja2\"))\n",
    "display(button)"
   ]
  },
  {
   "cell_type": "code",
   "execution_count": 15,
   "metadata": {
    "collapsed": false
   },
   "outputs": [
    {
     "name": "stdout",
     "output_type": "stream",
     "text": [
      "Using matplotlib backend: TkAgg\n",
      "Populating the interactive namespace from numpy and matplotlib\n"
     ]
    }
   ],
   "source": [
    "%pylab"
   ]
  },
  {
   "cell_type": "code",
   "execution_count": 2,
   "metadata": {
    "collapsed": false
   },
   "outputs": [
    {
     "data": {
      "text/plain": [
       "[<matplotlib.lines.Line2D at 0x7f8bf215ffd0>]"
      ]
     },
     "execution_count": 2,
     "metadata": {},
     "output_type": "execute_result"
    }
   ],
   "source": [
    "%matplotlib qt\n",
    "import matplotlib.pyplot as plt\n",
    "plt.plot([1,2,4])"
   ]
  },
  {
   "cell_type": "code",
   "execution_count": null,
   "metadata": {
    "collapsed": true
   },
   "outputs": [],
   "source": [
    "\n"
   ]
  },
  {
   "cell_type": "code",
   "execution_count": 1,
   "metadata": {
    "collapsed": false
   },
   "outputs": [],
   "source": [
    "import cpp.example as ex\n",
    "%load_ext autoreload\n",
    "%autoreload"
   ]
  },
  {
   "cell_type": "code",
   "execution_count": 2,
   "metadata": {
    "collapsed": false
   },
   "outputs": [],
   "source": [
    "import pandas as pd\n",
    "import numpy as np\n",
    "n = np.random.randn(5)\n",
    "s = pd.Series(n, index=['a', 'b', 'c', 'd', 'e'])"
   ]
  },
  {
   "cell_type": "code",
   "execution_count": 6,
   "metadata": {
    "collapsed": false
   },
   "outputs": [],
   "source": [
    "s.values[1]=33"
   ]
  },
  {
   "cell_type": "code",
   "execution_count": 7,
   "metadata": {
    "collapsed": false
   },
   "outputs": [
    {
     "data": {
      "text/plain": [
       "a    -1.143862\n",
       "b    33.000000\n",
       "c    -0.912464\n",
       "d    -0.833601\n",
       "e     0.458526\n",
       "dtype: float64"
      ]
     },
     "execution_count": 7,
     "metadata": {},
     "output_type": "execute_result"
    }
   ],
   "source": [
    "s"
   ]
  },
  {
   "cell_type": "code",
   "execution_count": 8,
   "metadata": {
    "collapsed": false
   },
   "outputs": [
    {
     "data": {
      "text/plain": [
       "'d'"
      ]
     },
     "execution_count": 8,
     "metadata": {},
     "output_type": "execute_result"
    }
   ],
   "source": [
    "ex.hej(s.values)"
   ]
  },
  {
   "cell_type": "code",
   "execution_count": 17,
   "metadata": {
    "collapsed": false
   },
   "outputs": [
    {
     "data": {
      "text/plain": [
       "'hej2'"
      ]
     },
     "execution_count": 17,
     "metadata": {},
     "output_type": "execute_result"
    }
   ],
   "source": [
    "foo = ex.Foo()\n",
    "ex.fooize3(foo)\n",
    "foo.text"
   ]
  },
  {
   "cell_type": "code",
   "execution_count": null,
   "metadata": {
    "collapsed": true
   },
   "outputs": [],
   "source": [
    "%gui qt\n",
    "import b\n",
    "window = b.MainWindow()"
   ]
  },
  {
   "cell_type": "code",
   "execution_count": 1,
   "metadata": {
    "collapsed": false
   },
   "outputs": [],
   "source": [
    "%load_ext autoreload\n",
    "%autoreload 2"
   ]
  },
  {
   "cell_type": "code",
   "execution_count": 14,
   "metadata": {
    "collapsed": false
   },
   "outputs": [
    {
     "name": "stdout",
     "output_type": "stream",
     "text": [
      "heja3\n"
     ]
    }
   ],
   "source": [
    "#%gui qt\n",
    "import sip\n",
    "sip.setapi(\"QString\", 2)\n",
    "sip.setapi(\"QVariant\", 2)\n",
    "from PyQt5.QtGui  import *\n",
    "from PyQt5.QtCore  import *\n",
    "from PyQt5  import QtCore\n",
    "from PyQt5.QtWidgets  import *\n",
    "%gui qt"
   ]
  },
  {
   "cell_type": "code",
   "execution_count": 15,
   "metadata": {
    "collapsed": false
   },
   "outputs": [],
   "source": [
    "from studio import *\n",
    "studio = Studio()\n",
    "window = MainWindow()\n",
    "window.show()"
   ]
  },
  {
   "cell_type": "code",
   "execution_count": 16,
   "metadata": {
    "collapsed": false
   },
   "outputs": [
    {
     "data": {
      "text/plain": [
       "[<matplotlib.lines.Line2D at 0x7f92781e7940>,\n",
       " <matplotlib.lines.Line2D at 0x7f92781b6e80>,\n",
       " <matplotlib.lines.Line2D at 0x7f92780a8dd8>,\n",
       " <matplotlib.lines.Line2D at 0x7f92780accc0>]"
      ]
     },
     "execution_count": 16,
     "metadata": {},
     "output_type": "execute_result"
    }
   ],
   "source": [
    "brick = PlotBrick(studio, window)\n",
    "window.addDockWidget(Qt.LeftDockWidgetArea, brick)\n",
    "data = studio.get_data()\n",
    "brick.axes.plot(data[\"test\"])"
   ]
  },
  {
   "cell_type": "code",
   "execution_count": 48,
   "metadata": {
    "collapsed": false
   },
   "outputs": [],
   "source": [
    "from matplotlib.backends.backend_qt5agg import NavigationToolbar2QT as NavigationToolbar\n",
    "\n",
    "brick.mpl_toolbar = NavigationToolbar(brick.canvas, brick)"
   ]
  },
  {
   "cell_type": "raw",
   "metadata": {},
   "source": []
  },
  {
   "cell_type": "raw",
   "metadata": {},
   "source": []
  }
 ],
 "metadata": {
  "kernelspec": {
   "display_name": "Python 3",
   "language": "python",
   "name": "python3"
  },
  "language_info": {
   "codemirror_mode": {
    "name": "ipython",
    "version": 3
   },
   "file_extension": ".py",
   "mimetype": "text/x-python",
   "name": "python",
   "nbconvert_exporter": "python",
   "pygments_lexer": "ipython3",
   "version": "3.5.2"
  }
 },
 "nbformat": 4,
 "nbformat_minor": 1
}
